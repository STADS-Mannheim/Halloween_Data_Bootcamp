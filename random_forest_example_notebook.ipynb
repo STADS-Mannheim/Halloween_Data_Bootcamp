{
 "cells": [
  {
   "cell_type": "markdown",
   "metadata": {},
   "source": [
    "# Example Notebook: Halloween Classifier using Random Forest"
   ]
  },
  {
   "cell_type": "markdown",
   "metadata": {},
   "source": [
    "## Introduction\n",
    "\n",
    "This notebook shows an example of how you can train a Random Forest Classifier to predict different types of monsters based on features from a dataset. We’ll walk through the complete machine learning workflow, including data loading, preprocessing, model training, evaluation, and testing.\n",
    "\n",
    "In this project, we use data from two sources: `Crimes_Dataset.csv`, which contains details on various fictional crimes, and `Suspects_Dataset.csv`, which provides information on potential suspects. The goal is to combine these datasets, preprocess the data, and build a model that can predict the type of \"monster\" involved in each crime.\n",
    "\n",
    "### Key Steps\n",
    "- **Data Loading**: Load and inspect the datasets to understand their structure and identify key features.\n",
    "- **Data Preprocessing**: Clean the data, handle missing values, and encode categorical features.\n",
    "- **Data Exploration**: Explore features and patterns in the data to guide our analysis and better understand the relationships between variables.\n",
    "- **Model Training**: Build and train a Random Forest classifier on the preprocessed data.\n",
    "- **Model Evaluation**: Assess model performance using metrics like accuracy, precision, recall, and F1 score.\n",
    "- **Model Saving and Inference**: Save the trained model and use it to make predictions on new data.\n",
    "- **Final Testing**: Evaluate the model on a separate test set to assess real-world performance. *Note: This final testing was conducted by the Data Bootcamp committee and is not expected as part of the challenge itself.*\n",
    "\n",
    "By the end of this notebook, we will have a trained Random Forest model that can classify monster types based on the features provided, along with insights into its performance and areas for improvement.\n"
   ]
  },
  {
   "cell_type": "code",
   "execution_count": 1,
   "metadata": {},
   "outputs": [],
   "source": [
    "import joblib\n",
    "import matplotlib.pyplot as plt\n",
    "import pandas as pd\n",
    "import seaborn as sns\n",
    "from sklearn.compose import ColumnTransformer\n",
    "from sklearn.ensemble import RandomForestClassifier\n",
    "from sklearn.impute import SimpleImputer\n",
    "from sklearn.metrics import accuracy_score, classification_report, confusion_matrix, f1_score, precision_score, recall_score\n",
    "from sklearn.model_selection import train_test_split\n",
    "from sklearn.pipeline import Pipeline\n",
    "from sklearn.preprocessing import OneHotEncoder"
   ]
  },
  {
   "cell_type": "markdown",
   "metadata": {},
   "source": [
    "## Data Preprocessing\n",
    "\n",
    "### Data Cleaning and Feature Selection\n",
    "\n",
    "In this section, we prepare the data for model training by performing essential cleaning and preprocessing tasks. We start by standardizing text data, handling missing values, and merging the datasets. These steps are critical to ensure that the model receives consistent and meaningful input.\n",
    "\n",
    "- **Lowercasing**: Converting all string data to lowercase to maintain consistency across text features.\n",
    "- **Handling Missing Values**: Dropping or filling in missing values where needed, as these could otherwise lead to errors during model training.\n",
    "- **Merging Datasets**: We combine the `Crimes_Dataset` and `Suspects_Dataset` based on unique identifiers. This merged dataset will contain all relevant information for training the model.\n",
    "\n",
    "### Encoding Categorical Variables and Preparing for the Model Pipeline\n",
    "\n",
    "Since machine learning models require numerical inputs, categorical features (e.g., crime type, region, weapon type) must be converted into numerical format. This conversion is likely handled within the model pipeline, which may use encoding methods such as `OneHotEncoder`. Encoding ensures that categorical features are represented in a way that the model can process effectively.\n",
    "\n",
    "After these preprocessing steps, we’ll have a cleaned, structured dataset ready for feature selection and model training.\n"
   ]
  },
  {
   "cell_type": "code",
   "execution_count": 2,
   "metadata": {},
   "outputs": [
    {
     "data": {
      "text/html": [
       "<div>\n",
       "<style scoped>\n",
       "    .dataframe tbody tr th:only-of-type {\n",
       "        vertical-align: middle;\n",
       "    }\n",
       "\n",
       "    .dataframe tbody tr th {\n",
       "        vertical-align: top;\n",
       "    }\n",
       "\n",
       "    .dataframe thead th {\n",
       "        text-align: right;\n",
       "    }\n",
       "</style>\n",
       "<table border=\"1\" class=\"dataframe\">\n",
       "  <thead>\n",
       "    <tr style=\"text-align: right;\">\n",
       "      <th></th>\n",
       "      <th>Index_Crimes</th>\n",
       "      <th>Date</th>\n",
       "      <th>Monster involved</th>\n",
       "      <th>Days of Investigation</th>\n",
       "      <th>Region</th>\n",
       "      <th>Crime Type</th>\n",
       "      <th>Crime Weapon</th>\n",
       "      <th>Time of Day</th>\n",
       "      <th>Evidence Found</th>\n",
       "    </tr>\n",
       "  </thead>\n",
       "  <tbody>\n",
       "    <tr>\n",
       "      <th>0</th>\n",
       "      <td>6316</td>\n",
       "      <td>2020-02-18</td>\n",
       "      <td>Skeleton</td>\n",
       "      <td>77.0</td>\n",
       "      <td>mountain</td>\n",
       "      <td>nightly disturbance</td>\n",
       "      <td>NaN</td>\n",
       "      <td>night</td>\n",
       "      <td>bones</td>\n",
       "    </tr>\n",
       "    <tr>\n",
       "      <th>1</th>\n",
       "      <td>4731</td>\n",
       "      <td>2022-09-01</td>\n",
       "      <td>Werewolf</td>\n",
       "      <td>48.0</td>\n",
       "      <td>forest</td>\n",
       "      <td>assault</td>\n",
       "      <td>pistol</td>\n",
       "      <td>night</td>\n",
       "      <td>teeth</td>\n",
       "    </tr>\n",
       "    <tr>\n",
       "      <th>2</th>\n",
       "      <td>1750</td>\n",
       "      <td>2022-08-03</td>\n",
       "      <td>Ghost</td>\n",
       "      <td>31.0</td>\n",
       "      <td>castle</td>\n",
       "      <td>nightly disturbance</td>\n",
       "      <td>NaN</td>\n",
       "      <td>night</td>\n",
       "      <td>potions</td>\n",
       "    </tr>\n",
       "  </tbody>\n",
       "</table>\n",
       "</div>"
      ],
      "text/plain": [
       "   Index_Crimes        Date Monster involved  Days of Investigation    Region  \\\n",
       "0          6316  2020-02-18         Skeleton                   77.0  mountain   \n",
       "1          4731  2022-09-01         Werewolf                   48.0    forest   \n",
       "2          1750  2022-08-03            Ghost                   31.0    castle   \n",
       "\n",
       "            Crime Type Crime Weapon Time of Day Evidence Found  \n",
       "0  nightly disturbance          NaN       night          bones  \n",
       "1              assault       pistol       night          teeth  \n",
       "2  nightly disturbance          NaN       night        potions  "
      ]
     },
     "execution_count": 2,
     "metadata": {},
     "output_type": "execute_result"
    }
   ],
   "source": [
    "crimes_dataset = pd.read_csv('data/Crimes_Dataset.csv')\n",
    "crimes_dataset.head(3)"
   ]
  },
  {
   "cell_type": "code",
   "execution_count": 3,
   "metadata": {},
   "outputs": [
    {
     "data": {
      "text/html": [
       "<div>\n",
       "<style scoped>\n",
       "    .dataframe tbody tr th:only-of-type {\n",
       "        vertical-align: middle;\n",
       "    }\n",
       "\n",
       "    .dataframe tbody tr th {\n",
       "        vertical-align: top;\n",
       "    }\n",
       "\n",
       "    .dataframe thead th {\n",
       "        text-align: right;\n",
       "    }\n",
       "</style>\n",
       "<table border=\"1\" class=\"dataframe\">\n",
       "  <thead>\n",
       "    <tr style=\"text-align: right;\">\n",
       "      <th></th>\n",
       "      <th>index_crimes</th>\n",
       "      <th>date</th>\n",
       "      <th>monster involved</th>\n",
       "      <th>days of investigation</th>\n",
       "      <th>region</th>\n",
       "      <th>crime type</th>\n",
       "      <th>crime weapon</th>\n",
       "      <th>time of day</th>\n",
       "      <th>evidence found</th>\n",
       "    </tr>\n",
       "  </thead>\n",
       "  <tbody>\n",
       "    <tr>\n",
       "      <th>0</th>\n",
       "      <td>6316</td>\n",
       "      <td>2020-02-18</td>\n",
       "      <td>skeleton</td>\n",
       "      <td>77.0</td>\n",
       "      <td>mountain</td>\n",
       "      <td>nightly disturbance</td>\n",
       "      <td>NaN</td>\n",
       "      <td>night</td>\n",
       "      <td>bones</td>\n",
       "    </tr>\n",
       "    <tr>\n",
       "      <th>1</th>\n",
       "      <td>4731</td>\n",
       "      <td>2022-09-01</td>\n",
       "      <td>werewolf</td>\n",
       "      <td>48.0</td>\n",
       "      <td>forest</td>\n",
       "      <td>assault</td>\n",
       "      <td>pistol</td>\n",
       "      <td>night</td>\n",
       "      <td>teeth</td>\n",
       "    </tr>\n",
       "    <tr>\n",
       "      <th>2</th>\n",
       "      <td>1750</td>\n",
       "      <td>2022-08-03</td>\n",
       "      <td>ghost</td>\n",
       "      <td>31.0</td>\n",
       "      <td>castle</td>\n",
       "      <td>nightly disturbance</td>\n",
       "      <td>NaN</td>\n",
       "      <td>night</td>\n",
       "      <td>potions</td>\n",
       "    </tr>\n",
       "  </tbody>\n",
       "</table>\n",
       "</div>"
      ],
      "text/plain": [
       "   index_crimes        date monster involved  days of investigation    region  \\\n",
       "0          6316  2020-02-18         skeleton                   77.0  mountain   \n",
       "1          4731  2022-09-01         werewolf                   48.0    forest   \n",
       "2          1750  2022-08-03            ghost                   31.0    castle   \n",
       "\n",
       "            crime type crime weapon time of day evidence found  \n",
       "0  nightly disturbance          NaN       night          bones  \n",
       "1              assault       pistol       night          teeth  \n",
       "2  nightly disturbance          NaN       night        potions  "
      ]
     },
     "execution_count": 3,
     "metadata": {},
     "output_type": "execute_result"
    }
   ],
   "source": [
    "# Change all the column names to lowercase\n",
    "crimes_dataset.columns = crimes_dataset.columns.str.lower()\n",
    "\n",
    "# Change all the string values to lowercase using DataFrame.apply and DataFrame.applymap alternatives\n",
    "crimes_dataset = crimes_dataset.apply(lambda col: col.str.lower() if col.dtype == 'object' else col)\n",
    "\n",
    "# Display the first 3 rows of the updated dataset\n",
    "crimes_dataset.head(3)\n"
   ]
  },
  {
   "cell_type": "code",
   "execution_count": 4,
   "metadata": {},
   "outputs": [
    {
     "data": {
      "text/html": [
       "<div>\n",
       "<style scoped>\n",
       "    .dataframe tbody tr th:only-of-type {\n",
       "        vertical-align: middle;\n",
       "    }\n",
       "\n",
       "    .dataframe tbody tr th {\n",
       "        vertical-align: top;\n",
       "    }\n",
       "\n",
       "    .dataframe thead th {\n",
       "        text-align: right;\n",
       "    }\n",
       "</style>\n",
       "<table border=\"1\" class=\"dataframe\">\n",
       "  <thead>\n",
       "    <tr style=\"text-align: right;\">\n",
       "      <th></th>\n",
       "      <th>index_monster</th>\n",
       "      <th>monster</th>\n",
       "      <th>criminal record</th>\n",
       "      <th>age</th>\n",
       "      <th>gender</th>\n",
       "      <th>height in cm</th>\n",
       "      <th>speed level</th>\n",
       "      <th>strength level</th>\n",
       "      <th>allergy</th>\n",
       "      <th>favorite food</th>\n",
       "    </tr>\n",
       "  </thead>\n",
       "  <tbody>\n",
       "    <tr>\n",
       "      <th>0</th>\n",
       "      <td>2101</td>\n",
       "      <td>witch</td>\n",
       "      <td>no</td>\n",
       "      <td>526.0</td>\n",
       "      <td>f</td>\n",
       "      <td>197.0</td>\n",
       "      <td>16.0</td>\n",
       "      <td>1.0</td>\n",
       "      <td>hazelnut</td>\n",
       "      <td>brain</td>\n",
       "    </tr>\n",
       "    <tr>\n",
       "      <th>1</th>\n",
       "      <td>9299</td>\n",
       "      <td>zombie</td>\n",
       "      <td>yes</td>\n",
       "      <td>46.0</td>\n",
       "      <td>m</td>\n",
       "      <td>184.0</td>\n",
       "      <td>20.0</td>\n",
       "      <td>7.0</td>\n",
       "      <td>cat hair</td>\n",
       "      <td>humans</td>\n",
       "    </tr>\n",
       "    <tr>\n",
       "      <th>2</th>\n",
       "      <td>6824</td>\n",
       "      <td>vampire</td>\n",
       "      <td>no</td>\n",
       "      <td>442.0</td>\n",
       "      <td>m</td>\n",
       "      <td>192.0</td>\n",
       "      <td>21.0</td>\n",
       "      <td>7.0</td>\n",
       "      <td>sunlight</td>\n",
       "      <td>pesto pasta</td>\n",
       "    </tr>\n",
       "  </tbody>\n",
       "</table>\n",
       "</div>"
      ],
      "text/plain": [
       "   index_monster  monster criminal record    age gender  height in cm  \\\n",
       "0           2101    witch              no  526.0      f         197.0   \n",
       "1           9299   zombie             yes   46.0      m         184.0   \n",
       "2           6824  vampire              no  442.0      m         192.0   \n",
       "\n",
       "   speed level  strength level   allergy favorite food  \n",
       "0         16.0             1.0  hazelnut         brain  \n",
       "1         20.0             7.0  cat hair        humans  \n",
       "2         21.0             7.0  sunlight   pesto pasta  "
      ]
     },
     "execution_count": 4,
     "metadata": {},
     "output_type": "execute_result"
    }
   ],
   "source": [
    "suspects_dataset = pd.read_csv('data/Suspects_Dataset.csv')\n",
    "\n",
    "# Change all the column names to lowercase\n",
    "suspects_dataset.columns = suspects_dataset.columns.str.lower()\n",
    "# change all the column values to lowercase (if not numerical data)\n",
    "suspects_dataset = suspects_dataset.apply(lambda col: col.str.lower() if col.dtype == 'object' else col)\n",
    "suspects_dataset.head(3)"
   ]
  },
  {
   "cell_type": "markdown",
   "metadata": {},
   "source": [
    "## A Few Insights into the Dataset Based on the Storyline\n",
    "\n",
    "In this section, we perform data exploration to uncover meaningful patterns related to the storyline. Data exploration helps us to understand the characteristics and distribution of our data, guiding our modeling decisions and giving us insight into possible outcomes."
   ]
  },
  {
   "cell_type": "code",
   "execution_count": 5,
   "metadata": {},
   "outputs": [
    {
     "data": {
      "text/plain": [
       "count    9999.000000\n",
       "mean       36.465047\n",
       "std        23.995856\n",
       "min         1.000000\n",
       "25%        17.000000\n",
       "50%        30.000000\n",
       "75%        51.000000\n",
       "max       100.000000\n",
       "Name: speed level, dtype: float64"
      ]
     },
     "execution_count": 5,
     "metadata": {},
     "output_type": "execute_result"
    }
   ],
   "source": [
    "# information about the values in Speed Level column (min, max, mean, etc.)\n",
    "suspects_dataset['speed level'].describe()\n"
   ]
  },
  {
   "cell_type": "code",
   "execution_count": 6,
   "metadata": {},
   "outputs": [
    {
     "name": "stdout",
     "output_type": "stream",
     "text": [
      "2301\n"
     ]
    }
   ],
   "source": [
    "# How many times does the value \"village\" appear in the \"Region\" column of crimes_dataset?\n",
    "village_count = crimes_dataset['region'].str.contains('village').sum()\n",
    "print(village_count)"
   ]
  },
  {
   "cell_type": "code",
   "execution_count": 7,
   "metadata": {},
   "outputs": [
    {
     "data": {
      "image/png": "[encoded data removed]",
      "text/plain": [
       "<Figure size 640x480 with 1 Axes>"
      ]
     },
     "metadata": {},
     "output_type": "display_data"
    }
   ],
   "source": [
    "# show the distribution of the values in the \"Region\" column\n",
    "\n",
    "crimes_dataset['region'].value_counts().plot(kind='bar')\n",
    "plt.show()\n"
   ]
  },
  {
   "cell_type": "code",
   "execution_count": 8,
   "metadata": {},
   "outputs": [
    {
     "data": {
      "image/png": "[encoded data removed]",
      "text/plain": [
       "<Figure size 1000x600 with 1 Axes>"
      ]
     },
     "metadata": {},
     "output_type": "display_data"
    }
   ],
   "source": [
    "crimes_dataset_new = crimes_dataset.copy()\n",
    "\n",
    "# Convert the 'Date' column to datetime in case it's not already\n",
    "crimes_dataset_new['date'] = pd.to_datetime(crimes_dataset_new['date'])\n",
    "\n",
    "# Filter the dataset for crimes that happened in the \"village\" region\n",
    "village_crimes = crimes_dataset_new[crimes_dataset_new['region'] == 'village']\n",
    "\n",
    "# Aggregate the number of crimes per month\n",
    "village_crimes_monthly = village_crimes.resample('ME', on='date').size()\n",
    "\n",
    "# Plot the aggregated number of crimes per month\n",
    "plt.figure(figsize=(10, 6))\n",
    "plt.plot(village_crimes_monthly.index, village_crimes_monthly.values, marker='o', linestyle='-', color='b')\n",
    "plt.title('Number of Crimes in the \"Village\" Region (Aggregated by Month)')\n",
    "plt.xlabel('Month')\n",
    "plt.ylabel('Number of Crimes')\n",
    "plt.xticks(rotation=45)\n",
    "plt.grid(True)\n",
    "plt.tight_layout()\n",
    "\n",
    "# Show the plot\n",
    "plt.show()\n"
   ]
  },
  {
   "cell_type": "code",
   "execution_count": 9,
   "metadata": {},
   "outputs": [
    {
     "data": {
      "text/plain": [
       "(monster involved\n",
       " witch       841\n",
       " ghost       736\n",
       " vampire     315\n",
       " zombie      230\n",
       " werewolf    179\n",
       " Name: count, dtype: int64,\n",
       " crime type\n",
       " arson                  583\n",
       " nightly disturbance    412\n",
       " kidnapping             402\n",
       " assault                361\n",
       " vandalism              337\n",
       " theft                  148\n",
       " murder                  58\n",
       " Name: count, dtype: int64,\n",
       " time of day\n",
       " night    1161\n",
       " dusk      514\n",
       " dawn      328\n",
       " day       298\n",
       " Name: count, dtype: int64)"
      ]
     },
     "execution_count": 9,
     "metadata": {},
     "output_type": "execute_result"
    }
   ],
   "source": [
    "# Explore insights about crimes in the village\n",
    "# Group by monster involved, crime type, and time of day to get more insights\n",
    "\n",
    "# Filter village crimes again in case the dataset was updated\n",
    "village_crimes = crimes_dataset_new[crimes_dataset_new['region'] == 'village']\n",
    "\n",
    "# Get the most common monsters involved in village crimes\n",
    "monsters_in_village = village_crimes['monster involved'].value_counts()\n",
    "\n",
    "# Get the most common types of crimes in the village\n",
    "crime_types_in_village = village_crimes['crime type'].value_counts()\n",
    "\n",
    "# Get the most common times of day crimes occur in the village\n",
    "time_of_day_in_village = village_crimes['time of day'].value_counts()\n",
    "\n",
    "monsters_in_village, crime_types_in_village, time_of_day_in_village\n"
   ]
  },
  {
   "cell_type": "code",
   "execution_count": 10,
   "metadata": {},
   "outputs": [
    {
     "data": {
      "text/plain": [
       "<Axes: xlabel='monster involved'>"
      ]
     },
     "execution_count": 10,
     "metadata": {},
     "output_type": "execute_result"
    },
    {
     "data": {
      "image/png": "[encoded data removed]",
      "text/plain": [
       "<Figure size 1000x600 with 1 Axes>"
      ]
     },
     "metadata": {},
     "output_type": "display_data"
    }
   ],
   "source": [
    "# generate a bar plot for 'monsters_in_village'\n",
    "plt.figure(figsize=(10, 6))\n",
    "\n",
    "monsters_in_village.plot(kind='bar')"
   ]
  },
  {
   "cell_type": "code",
   "execution_count": 11,
   "metadata": {},
   "outputs": [
    {
     "data": {
      "text/plain": [
       "<Axes: xlabel='time of day'>"
      ]
     },
     "execution_count": 11,
     "metadata": {},
     "output_type": "execute_result"
    },
    {
     "data": {
      "image/png": "[encoded data removed]",
      "text/plain": [
       "<Figure size 1000x600 with 1 Axes>"
      ]
     },
     "metadata": {},
     "output_type": "display_data"
    }
   ],
   "source": [
    "# generate a bar plot for 'time_of_day_in_village\n",
    "plt.figure(figsize=(10, 6))\n",
    "\n",
    "time_of_day_in_village.plot(kind='bar')"
   ]
  },
  {
   "cell_type": "code",
   "execution_count": 12,
   "metadata": {},
   "outputs": [
    {
     "data": {
      "text/plain": [
       "94"
      ]
     },
     "execution_count": 12,
     "metadata": {},
     "output_type": "execute_result"
    }
   ],
   "source": [
    "# Filter village crimes for kidnappings that occurred during the day\n",
    "village_day_kidnappings = village_crimes[(village_crimes['crime type'] == 'kidnapping') & \n",
    "                                         (village_crimes['time of day'] == 'day')]\n",
    "\n",
    "len(village_day_kidnappings)\n"
   ]
  },
  {
   "cell_type": "code",
   "execution_count": 13,
   "metadata": {},
   "outputs": [
    {
     "data": {
      "text/plain": [
       "monster involved\n",
       "witch     71\n",
       "zombie    23\n",
       "Name: count, dtype: int64"
      ]
     },
     "execution_count": 13,
     "metadata": {},
     "output_type": "execute_result"
    }
   ],
   "source": [
    "village_day_kidnappings['monster involved'].value_counts()"
   ]
  },
  {
   "cell_type": "markdown",
   "metadata": {},
   "source": [
    "**Summary of Data Exploration**  \n",
    "\n",
    "Data exploration helps us uncover patterns that guide our analysis and align with our storyline. For instance, we can see that crimes in the village occur fairly regular and there are only a few months in the data where there are clearly more/less crimes. By examining features like region, time of day, and crime type, we noticed that crimes in the \"village\" occur frequently at night, with witches and ghosts as the main suspects. Kidnappings during the day, although less common, are linked primarily to witches and zombies. These insights narrow our focus to specific suspects and conditions, showing how careful exploration can inform and refine our approach to building effective models. \n",
    "\n",
    "**Note**: By focusing the combination of feature \"village\", \"kidnapping\", and \"time of day\" we limit our exploration to a small group of suspects. Starting with a different selection of features might lead us to a different group of suspects. Therefore, spending enough time with data exploration is always recommended in order to understand our data before building models."
   ]
  },
  {
   "cell_type": "markdown",
   "metadata": {},
   "source": [
    "## Model Training \n",
    "\n",
    "Before training the classification model, we can merge the two data sets by their respective indexes. We then set aside a part of the data in order to assess the performance of the classifier."
   ]
  },
  {
   "cell_type": "code",
   "execution_count": 14,
   "metadata": {},
   "outputs": [
    {
     "data": {
      "text/html": [
       "<div>\n",
       "<style scoped>\n",
       "    .dataframe tbody tr th:only-of-type {\n",
       "        vertical-align: middle;\n",
       "    }\n",
       "\n",
       "    .dataframe tbody tr th {\n",
       "        vertical-align: top;\n",
       "    }\n",
       "\n",
       "    .dataframe thead th {\n",
       "        text-align: right;\n",
       "    }\n",
       "</style>\n",
       "<table border=\"1\" class=\"dataframe\">\n",
       "  <thead>\n",
       "    <tr style=\"text-align: right;\">\n",
       "      <th></th>\n",
       "      <th>index_crimes</th>\n",
       "      <th>date</th>\n",
       "      <th>monster involved</th>\n",
       "      <th>days of investigation</th>\n",
       "      <th>region</th>\n",
       "      <th>crime type</th>\n",
       "      <th>crime weapon</th>\n",
       "      <th>time of day</th>\n",
       "      <th>evidence found</th>\n",
       "      <th>index_monster</th>\n",
       "      <th>monster</th>\n",
       "      <th>criminal record</th>\n",
       "      <th>age</th>\n",
       "      <th>gender</th>\n",
       "      <th>height in cm</th>\n",
       "      <th>speed level</th>\n",
       "      <th>strength level</th>\n",
       "      <th>allergy</th>\n",
       "      <th>favorite food</th>\n",
       "    </tr>\n",
       "  </thead>\n",
       "  <tbody>\n",
       "    <tr>\n",
       "      <th>0</th>\n",
       "      <td>6316</td>\n",
       "      <td>2020-02-18</td>\n",
       "      <td>skeleton</td>\n",
       "      <td>77.0</td>\n",
       "      <td>mountain</td>\n",
       "      <td>nightly disturbance</td>\n",
       "      <td>NaN</td>\n",
       "      <td>night</td>\n",
       "      <td>bones</td>\n",
       "      <td>6316</td>\n",
       "      <td>skeleton</td>\n",
       "      <td>yes</td>\n",
       "      <td>1.0</td>\n",
       "      <td>f</td>\n",
       "      <td>152.0</td>\n",
       "      <td>26.0</td>\n",
       "      <td>8.0</td>\n",
       "      <td>silver</td>\n",
       "      <td>lasagna</td>\n",
       "    </tr>\n",
       "    <tr>\n",
       "      <th>1</th>\n",
       "      <td>4731</td>\n",
       "      <td>2022-09-01</td>\n",
       "      <td>werewolf</td>\n",
       "      <td>48.0</td>\n",
       "      <td>forest</td>\n",
       "      <td>assault</td>\n",
       "      <td>pistol</td>\n",
       "      <td>night</td>\n",
       "      <td>teeth</td>\n",
       "      <td>4731</td>\n",
       "      <td>werewolf</td>\n",
       "      <td>no</td>\n",
       "      <td>53.0</td>\n",
       "      <td>m</td>\n",
       "      <td>171.0</td>\n",
       "      <td>87.0</td>\n",
       "      <td>7.0</td>\n",
       "      <td>silver</td>\n",
       "      <td>pesto pasta</td>\n",
       "    </tr>\n",
       "    <tr>\n",
       "      <th>2</th>\n",
       "      <td>1750</td>\n",
       "      <td>2022-08-03</td>\n",
       "      <td>ghost</td>\n",
       "      <td>31.0</td>\n",
       "      <td>castle</td>\n",
       "      <td>nightly disturbance</td>\n",
       "      <td>NaN</td>\n",
       "      <td>night</td>\n",
       "      <td>potions</td>\n",
       "      <td>1750</td>\n",
       "      <td>ghost</td>\n",
       "      <td>no</td>\n",
       "      <td>1634.0</td>\n",
       "      <td>m</td>\n",
       "      <td>185.0</td>\n",
       "      <td>59.0</td>\n",
       "      <td>2.0</td>\n",
       "      <td>sunlight</td>\n",
       "      <td>humans</td>\n",
       "    </tr>\n",
       "  </tbody>\n",
       "</table>\n",
       "</div>"
      ],
      "text/plain": [
       "   index_crimes        date monster involved  days of investigation    region  \\\n",
       "0          6316  2020-02-18         skeleton                   77.0  mountain   \n",
       "1          4731  2022-09-01         werewolf                   48.0    forest   \n",
       "2          1750  2022-08-03            ghost                   31.0    castle   \n",
       "\n",
       "            crime type crime weapon time of day evidence found  index_monster  \\\n",
       "0  nightly disturbance          NaN       night          bones           6316   \n",
       "1              assault       pistol       night          teeth           4731   \n",
       "2  nightly disturbance          NaN       night        potions           1750   \n",
       "\n",
       "    monster criminal record     age gender  height in cm  speed level  \\\n",
       "0  skeleton             yes     1.0      f         152.0         26.0   \n",
       "1  werewolf              no    53.0      m         171.0         87.0   \n",
       "2     ghost              no  1634.0      m         185.0         59.0   \n",
       "\n",
       "   strength level   allergy favorite food  \n",
       "0             8.0    silver       lasagna  \n",
       "1             7.0    silver   pesto pasta  \n",
       "2             2.0  sunlight        humans  "
      ]
     },
     "execution_count": 14,
     "metadata": {},
     "output_type": "execute_result"
    }
   ],
   "source": [
    "# Merge the crimes and suspects datasets on matching index\n",
    "df = pd.merge(crimes_dataset, suspects_dataset, left_on='index_crimes', right_on='index_monster')\n",
    "df.head(3)\n",
    "\n"
   ]
  },
  {
   "cell_type": "code",
   "execution_count": 15,
   "metadata": {},
   "outputs": [
    {
     "data": {
      "text/html": [
       "<div>\n",
       "<style scoped>\n",
       "    .dataframe tbody tr th:only-of-type {\n",
       "        vertical-align: middle;\n",
       "    }\n",
       "\n",
       "    .dataframe tbody tr th {\n",
       "        vertical-align: top;\n",
       "    }\n",
       "\n",
       "    .dataframe thead th {\n",
       "        text-align: right;\n",
       "    }\n",
       "</style>\n",
       "<table border=\"1\" class=\"dataframe\">\n",
       "  <thead>\n",
       "    <tr style=\"text-align: right;\">\n",
       "      <th></th>\n",
       "      <th>index_crimes</th>\n",
       "      <th>date</th>\n",
       "      <th>monster_involved</th>\n",
       "      <th>days_of_investigation</th>\n",
       "      <th>region</th>\n",
       "      <th>crime_type</th>\n",
       "      <th>crime_weapon</th>\n",
       "      <th>time_of_day</th>\n",
       "      <th>evidence_found</th>\n",
       "      <th>index_monster</th>\n",
       "      <th>criminal_record</th>\n",
       "      <th>age</th>\n",
       "      <th>gender</th>\n",
       "      <th>height_in_cm</th>\n",
       "      <th>speed_level</th>\n",
       "      <th>strength_level</th>\n",
       "      <th>allergy</th>\n",
       "      <th>favorite_food</th>\n",
       "    </tr>\n",
       "  </thead>\n",
       "  <tbody>\n",
       "    <tr>\n",
       "      <th>0</th>\n",
       "      <td>6316</td>\n",
       "      <td>2020-02-18</td>\n",
       "      <td>skeleton</td>\n",
       "      <td>77.0</td>\n",
       "      <td>mountain</td>\n",
       "      <td>nightly disturbance</td>\n",
       "      <td>NaN</td>\n",
       "      <td>night</td>\n",
       "      <td>bones</td>\n",
       "      <td>6316</td>\n",
       "      <td>yes</td>\n",
       "      <td>1.0</td>\n",
       "      <td>f</td>\n",
       "      <td>152.0</td>\n",
       "      <td>26.0</td>\n",
       "      <td>8.0</td>\n",
       "      <td>silver</td>\n",
       "      <td>lasagna</td>\n",
       "    </tr>\n",
       "    <tr>\n",
       "      <th>1</th>\n",
       "      <td>4731</td>\n",
       "      <td>2022-09-01</td>\n",
       "      <td>werewolf</td>\n",
       "      <td>48.0</td>\n",
       "      <td>forest</td>\n",
       "      <td>assault</td>\n",
       "      <td>pistol</td>\n",
       "      <td>night</td>\n",
       "      <td>teeth</td>\n",
       "      <td>4731</td>\n",
       "      <td>no</td>\n",
       "      <td>53.0</td>\n",
       "      <td>m</td>\n",
       "      <td>171.0</td>\n",
       "      <td>87.0</td>\n",
       "      <td>7.0</td>\n",
       "      <td>silver</td>\n",
       "      <td>pesto pasta</td>\n",
       "    </tr>\n",
       "    <tr>\n",
       "      <th>2</th>\n",
       "      <td>1750</td>\n",
       "      <td>2022-08-03</td>\n",
       "      <td>ghost</td>\n",
       "      <td>31.0</td>\n",
       "      <td>castle</td>\n",
       "      <td>nightly disturbance</td>\n",
       "      <td>NaN</td>\n",
       "      <td>night</td>\n",
       "      <td>potions</td>\n",
       "      <td>1750</td>\n",
       "      <td>no</td>\n",
       "      <td>1634.0</td>\n",
       "      <td>m</td>\n",
       "      <td>185.0</td>\n",
       "      <td>59.0</td>\n",
       "      <td>2.0</td>\n",
       "      <td>sunlight</td>\n",
       "      <td>humans</td>\n",
       "    </tr>\n",
       "  </tbody>\n",
       "</table>\n",
       "</div>"
      ],
      "text/plain": [
       "   index_crimes        date monster_involved  days_of_investigation    region  \\\n",
       "0          6316  2020-02-18         skeleton                   77.0  mountain   \n",
       "1          4731  2022-09-01         werewolf                   48.0    forest   \n",
       "2          1750  2022-08-03            ghost                   31.0    castle   \n",
       "\n",
       "            crime_type crime_weapon time_of_day evidence_found  index_monster  \\\n",
       "0  nightly disturbance          NaN       night          bones           6316   \n",
       "1              assault       pistol       night          teeth           4731   \n",
       "2  nightly disturbance          NaN       night        potions           1750   \n",
       "\n",
       "  criminal_record     age gender  height_in_cm  speed_level  strength_level  \\\n",
       "0             yes     1.0      f         152.0         26.0             8.0   \n",
       "1              no    53.0      m         171.0         87.0             7.0   \n",
       "2              no  1634.0      m         185.0         59.0             2.0   \n",
       "\n",
       "    allergy favorite_food  \n",
       "0    silver       lasagna  \n",
       "1    silver   pesto pasta  \n",
       "2  sunlight        humans  "
      ]
     },
     "execution_count": 15,
     "metadata": {},
     "output_type": "execute_result"
    }
   ],
   "source": [
    "# delete column \"monster\" in df\n",
    "df.drop('monster', axis=1, inplace=True)\n",
    "\n",
    "# # renema column \"Monster involved\" to \"Monster\"\n",
    "# df.rename(columns={'monster involved': 'Monster'}, inplace=True)\n",
    "\n",
    "# rename all columns to lowercase and replace spaces with underscores\n",
    "df.columns = df.columns.str.lower().str.replace(' ', '_')\n",
    "df.head(3)"
   ]
  },
  {
   "cell_type": "code",
   "execution_count": 16,
   "metadata": {},
   "outputs": [],
   "source": [
    "\n",
    "# Separate the features and target\n",
    "X = df.drop(columns=['monster_involved', 'index_crimes', 'index_monster'])\n",
    "y = df['monster_involved']\n",
    "\n",
    "# Identify categorical and numerical features\n",
    "categorical_features = X.select_dtypes(include=['object']).columns\n",
    "numerical_features = X.select_dtypes(include=['number']).columns\n",
    "\n",
    "# Preprocessing for numerical data (fill missing values)\n",
    "numerical_transformer = SimpleImputer(strategy='mean')\n",
    "\n",
    "# Preprocessing for categorical data (one-hot encode)\n",
    "categorical_transformer = Pipeline(steps=[\n",
    "    ('imputer', SimpleImputer(strategy='most_frequent')),\n",
    "    ('onehot', OneHotEncoder(handle_unknown='ignore'))\n",
    "])\n",
    "\n",
    "# Combine preprocessing for both numerical and categorical data\n",
    "preprocessor = ColumnTransformer(\n",
    "    transformers=[\n",
    "        ('num', numerical_transformer, numerical_features),\n",
    "        ('cat', categorical_transformer, categorical_features)\n",
    "    ])\n",
    "\n",
    "# Create a pipeline that preprocesses the data and then applies the classifier\n",
    "model_pipeline = Pipeline(steps=[\n",
    "    ('preprocessor', preprocessor),\n",
    "    ('classifier', RandomForestClassifier(n_estimators=100, random_state=42))\n",
    "])\n",
    "\n",
    "# Split the data into training and test sets (80% train, 20% test)\n",
    "X_train, X_test, y_train, y_test = train_test_split(X, y, test_size=0.2, random_state=42)\n",
    "\n",
    "# Train the model\n",
    "model_pipeline.fit(X_train, y_train)\n",
    "\n",
    "# Predict on the test set\n",
    "y_pred = model_pipeline.predict(X_test)"
   ]
  },
  {
   "cell_type": "markdown",
   "metadata": {},
   "source": [
    "### Model Evaluation"
   ]
  },
  {
   "cell_type": "code",
   "execution_count": 17,
   "metadata": {},
   "outputs": [
    {
     "name": "stdout",
     "output_type": "stream",
     "text": [
      "Accuracy: 0.9735\n",
      "Precision: 0.9735203540078057\n",
      "Recall: 0.9735\n",
      "F1 Score: 0.973488168264482\n",
      "\n",
      "Classification Report:\n",
      "               precision    recall  f1-score   support\n",
      "\n",
      "       ghost       0.97      0.98      0.97       338\n",
      "    skeleton       0.95      0.95      0.95       317\n",
      "     vampire       0.97      0.98      0.97       328\n",
      "    werewolf       0.98      0.98      0.98       364\n",
      "       witch       0.99      0.97      0.98       320\n",
      "      zombie       0.98      0.99      0.99       333\n",
      "\n",
      "    accuracy                           0.97      2000\n",
      "   macro avg       0.97      0.97      0.97      2000\n",
      "weighted avg       0.97      0.97      0.97      2000\n",
      "\n"
     ]
    }
   ],
   "source": [
    "# Evaluate the model on the test set\n",
    "accuracy = accuracy_score(y_test, y_pred)\n",
    "precision = precision_score(y_test, y_pred, average='weighted')\n",
    "recall = recall_score(y_test, y_pred, average='weighted')\n",
    "f1 = f1_score(y_test, y_pred, average='weighted')\n",
    "report = classification_report(y_test, y_pred)\n",
    "\n",
    "# Print evaluation metrics\n",
    "print(f\"Accuracy: {accuracy}\")\n",
    "print(f\"Precision: {precision}\")\n",
    "print(f\"Recall: {recall}\")\n",
    "print(f\"F1 Score: {f1}\")\n",
    "print(\"\\nClassification Report:\\n\", report)"
   ]
  },
  {
   "cell_type": "code",
   "execution_count": 18,
   "metadata": {},
   "outputs": [
    {
     "data": {
      "text/html": [
       "<div>\n",
       "<style scoped>\n",
       "    .dataframe tbody tr th:only-of-type {\n",
       "        vertical-align: middle;\n",
       "    }\n",
       "\n",
       "    .dataframe tbody tr th {\n",
       "        vertical-align: top;\n",
       "    }\n",
       "\n",
       "    .dataframe thead th {\n",
       "        text-align: right;\n",
       "    }\n",
       "</style>\n",
       "<table border=\"1\" class=\"dataframe\">\n",
       "  <thead>\n",
       "    <tr style=\"text-align: right;\">\n",
       "      <th></th>\n",
       "      <th>feature</th>\n",
       "      <th>importance</th>\n",
       "    </tr>\n",
       "  </thead>\n",
       "  <tbody>\n",
       "    <tr>\n",
       "      <th>1</th>\n",
       "      <td>age</td>\n",
       "      <td>0.133022</td>\n",
       "    </tr>\n",
       "    <tr>\n",
       "      <th>3</th>\n",
       "      <td>speed_level</td>\n",
       "      <td>0.099891</td>\n",
       "    </tr>\n",
       "    <tr>\n",
       "      <th>1835</th>\n",
       "      <td>evidence_found_bones</td>\n",
       "      <td>0.039877</td>\n",
       "    </tr>\n",
       "    <tr>\n",
       "      <th>1813</th>\n",
       "      <td>region_castle</td>\n",
       "      <td>0.032708</td>\n",
       "    </tr>\n",
       "    <tr>\n",
       "      <th>4</th>\n",
       "      <td>strength_level</td>\n",
       "      <td>0.032211</td>\n",
       "    </tr>\n",
       "    <tr>\n",
       "      <th>1846</th>\n",
       "      <td>allergy_hazelnut</td>\n",
       "      <td>0.032188</td>\n",
       "    </tr>\n",
       "    <tr>\n",
       "      <th>1818</th>\n",
       "      <td>crime_type_arson</td>\n",
       "      <td>0.027759</td>\n",
       "    </tr>\n",
       "    <tr>\n",
       "      <th>1819</th>\n",
       "      <td>crime_type_assault</td>\n",
       "      <td>0.027194</td>\n",
       "    </tr>\n",
       "    <tr>\n",
       "      <th>1848</th>\n",
       "      <td>allergy_silver</td>\n",
       "      <td>0.026556</td>\n",
       "    </tr>\n",
       "    <tr>\n",
       "      <th>1849</th>\n",
       "      <td>allergy_sunlight</td>\n",
       "      <td>0.023648</td>\n",
       "    </tr>\n",
       "  </tbody>\n",
       "</table>\n",
       "</div>"
      ],
      "text/plain": [
       "                   feature  importance\n",
       "1                      age    0.133022\n",
       "3              speed_level    0.099891\n",
       "1835  evidence_found_bones    0.039877\n",
       "1813         region_castle    0.032708\n",
       "4           strength_level    0.032211\n",
       "1846      allergy_hazelnut    0.032188\n",
       "1818      crime_type_arson    0.027759\n",
       "1819    crime_type_assault    0.027194\n",
       "1848        allergy_silver    0.026556\n",
       "1849      allergy_sunlight    0.023648"
      ]
     },
     "execution_count": 18,
     "metadata": {},
     "output_type": "execute_result"
    }
   ],
   "source": [
    "# Retrieve feature importances from the trained RandomForest model\n",
    "importances = model_pipeline.named_steps['classifier'].feature_importances_\n",
    "\n",
    "# Get the feature names from the preprocessor (after one-hot encoding)\n",
    "categorical_feature_names = model_pipeline.named_steps['preprocessor'].named_transformers_['cat']['onehot'].get_feature_names_out(categorical_features)\n",
    "all_feature_names = list(numerical_features) + list(categorical_feature_names)\n",
    "\n",
    "# Create a DataFrame to view feature importances\n",
    "feature_importances = pd.DataFrame({'feature': all_feature_names, 'importance': importances}).sort_values(by='importance', ascending=False)\n",
    "\n",
    "# Show the top feature importances\n",
    "feature_importances.head(10)\n"
   ]
  },
  {
   "cell_type": "code",
   "execution_count": 19,
   "metadata": {},
   "outputs": [
    {
     "data": {
      "image/png": "[encoded data removed]",
      "text/plain": [
       "<Figure size 1000x700 with 2 Axes>"
      ]
     },
     "metadata": {},
     "output_type": "display_data"
    }
   ],
   "source": [
    "# Visualise training results using a Confusion Matrix\n",
    "\n",
    "# Generate the confusion matrix\n",
    "conf_matrix = confusion_matrix(y_test, y_pred)\n",
    "\n",
    "# Plot the confusion matrix using a heatmap\n",
    "plt.figure(figsize=(10, 7))\n",
    "sns.heatmap(conf_matrix, annot=True, fmt='d', cmap='Blues', xticklabels=y.unique(), yticklabels=y.unique())\n",
    "plt.title('Confusion Matrix')\n",
    "plt.xlabel('Predicted')\n",
    "plt.ylabel('Actual')\n",
    "plt.show()\n"
   ]
  },
  {
   "cell_type": "markdown",
   "metadata": {},
   "source": [
    "As we can see, the model only makes a few mistakes. Once we are happy with the results, we can save the model to be then able to test it against other data not seen during the training."
   ]
  },
  {
   "cell_type": "markdown",
   "metadata": {},
   "source": [
    "#### Saving the Model"
   ]
  },
  {
   "cell_type": "code",
   "execution_count": 20,
   "metadata": {},
   "outputs": [
    {
     "data": {
      "text/plain": [
       "['trained_model_pipeline.pkl']"
      ]
     },
     "execution_count": 20,
     "metadata": {},
     "output_type": "execute_result"
    }
   ],
   "source": [
    "# Save the trained model to a file\n",
    "joblib.dump(model_pipeline, 'trained_model_pipeline.pkl')\n"
   ]
  },
  {
   "cell_type": "markdown",
   "metadata": {},
   "source": [
    "## Inference: Predicting the Monster for a crime"
   ]
  },
  {
   "cell_type": "code",
   "execution_count": 21,
   "metadata": {},
   "outputs": [],
   "source": [
    "# Load the saved model from the file\n",
    "loaded_model = joblib.load('trained_model_pipeline.pkl')\n"
   ]
  },
  {
   "cell_type": "code",
   "execution_count": 22,
   "metadata": {},
   "outputs": [
    {
     "data": {
      "text/plain": [
       "' \\nWitch,Yes,443,M,172,26,1,pumpkin,lasange\\n'"
      ]
     },
     "execution_count": 22,
     "metadata": {},
     "output_type": "execute_result"
    }
   ],
   "source": [
    "# Target from Crimes:\n",
    "\"\"\" \n",
    "2024-10-30,Witch,67,village,kidnapping,knive,day,bones\n",
    "\"\"\"\n",
    "\n",
    "# Target from Suspects:\n",
    "\"\"\" \n",
    "Witch,Yes,443,M,172,26,1,pumpkin,lasange\n",
    "\"\"\""
   ]
  },
  {
   "cell_type": "code",
   "execution_count": 23,
   "metadata": {},
   "outputs": [
    {
     "data": {
      "text/plain": [
       "'\\nTarget variable is Monster involved: Witch\\n\\nDate: 2024-10-30\\nRegion: village\\nCrime Type: kidnapping\\nTime of Day: Day\\nEvidence Found: Bones\\nWeapon Used: Knive\\n'"
      ]
     },
     "execution_count": 23,
     "metadata": {},
     "output_type": "execute_result"
    }
   ],
   "source": [
    "\"\"\"\n",
    "Target variable is Monster involved: Witch\n",
    "\n",
    "Date: 2024-10-30\n",
    "Region: village\n",
    "Crime Type: kidnapping\n",
    "Time of Day: Day\n",
    "Evidence Found: Bones\n",
    "Weapon Used: Knive\n",
    "\"\"\""
   ]
  },
  {
   "cell_type": "code",
   "execution_count": 24,
   "metadata": {},
   "outputs": [
    {
     "name": "stdout",
     "output_type": "stream",
     "text": [
      "witch\n"
     ]
    }
   ],
   "source": [
    "\n",
    "# Create a dictionary for the input features based on the story\n",
    "story_input = {\n",
    "    'region': ['village'],  # Region from the story\n",
    "    'time_of_day': ['day'],  # Time of day from the story\n",
    "    'speed_level': [None],  # Placeholder for missing feature\n",
    "    'date': '2024-10-30',  # Placeholder for missing feature\n",
    "    'crime_type': ['kidnapping'],  # Placeholder for missing feature\n",
    "    'height_in_cm': [None],  # Placeholder for missing feature\n",
    "    'gender': [None],  # Placeholder for missing feature\n",
    "    'crime_weapon': ['knive'],  # Crime weapon from the story\n",
    "    'allergy': [None],  # Placeholder for missing feature\n",
    "    'strength_level': [None],  # Placeholder for missing feature\n",
    "    'criminal_record': [None],  # Placeholder for missing feature\n",
    "    'days_of_investigation': [None],  # Placeholder for missing feature\n",
    "    'age': [None],  # Placeholder for missing feature\n",
    "    'favorite_food': [None],  # Placeholder for missing feature\n",
    "    'evidence_found': ['bones']  # Evidence from the story\n",
    "}\n",
    "\n",
    "# Convert the dictionary into a DataFrame\n",
    "story_df = pd.DataFrame(story_input)\n",
    "\n",
    "# Use the loaded model for inference without retraining\n",
    "predicted_monster = loaded_model.predict(story_df)\n",
    "\n",
    "# Output the predicted monster\n",
    "print(predicted_monster[0])\n"
   ]
  },
  {
   "cell_type": "markdown",
   "metadata": {},
   "source": [
    "## Performance Assessment on Test Set (conducted by Data Bootcamp committee)  \n",
    "\n",
    "Here, we include additional testing conducted by the Data Bootcamp committee after the code was submitted. This step uses a separate test set to assess how well the model generalizes beyond the training data. This assessment is not part of the required challenge but provides extra insight how well the classification model generalizes to unseen data. "
   ]
  },
  {
   "cell_type": "code",
   "execution_count": 25,
   "metadata": {},
   "outputs": [],
   "source": [
    "# Load the saved model pipeline (if not already loaded)\n",
    "loaded_model = joblib.load('trained_model_pipeline.pkl')"
   ]
  },
  {
   "cell_type": "code",
   "execution_count": 26,
   "metadata": {},
   "outputs": [
    {
     "data": {
      "text/html": [
       "<div>\n",
       "<style scoped>\n",
       "    .dataframe tbody tr th:only-of-type {\n",
       "        vertical-align: middle;\n",
       "    }\n",
       "\n",
       "    .dataframe tbody tr th {\n",
       "        vertical-align: top;\n",
       "    }\n",
       "\n",
       "    .dataframe thead th {\n",
       "        text-align: right;\n",
       "    }\n",
       "</style>\n",
       "<table border=\"1\" class=\"dataframe\">\n",
       "  <thead>\n",
       "    <tr style=\"text-align: right;\">\n",
       "      <th></th>\n",
       "      <th>date</th>\n",
       "      <th>monster_involved</th>\n",
       "      <th>days_of_investigation</th>\n",
       "      <th>region</th>\n",
       "      <th>crime_type</th>\n",
       "      <th>crime_weapon</th>\n",
       "      <th>time_of_day</th>\n",
       "      <th>evidence_found</th>\n",
       "      <th>criminal_record</th>\n",
       "      <th>age</th>\n",
       "      <th>gender</th>\n",
       "      <th>height_in_cm</th>\n",
       "      <th>speed_level</th>\n",
       "      <th>strength_level</th>\n",
       "      <th>allergy</th>\n",
       "      <th>favorite_food</th>\n",
       "      <th>id</th>\n",
       "    </tr>\n",
       "  </thead>\n",
       "  <tbody>\n",
       "    <tr>\n",
       "      <th>0</th>\n",
       "      <td>2023-05-23</td>\n",
       "      <td>zombie</td>\n",
       "      <td>92</td>\n",
       "      <td>swamp</td>\n",
       "      <td>assault</td>\n",
       "      <td>NaN</td>\n",
       "      <td>night</td>\n",
       "      <td>potions</td>\n",
       "      <td>no</td>\n",
       "      <td>97</td>\n",
       "      <td>f</td>\n",
       "      <td>162</td>\n",
       "      <td>14</td>\n",
       "      <td>1</td>\n",
       "      <td>sunlight</td>\n",
       "      <td>humans</td>\n",
       "      <td>2211</td>\n",
       "    </tr>\n",
       "    <tr>\n",
       "      <th>1</th>\n",
       "      <td>2023-06-02</td>\n",
       "      <td>ghost</td>\n",
       "      <td>39</td>\n",
       "      <td>village</td>\n",
       "      <td>vandalism</td>\n",
       "      <td>axe</td>\n",
       "      <td>night</td>\n",
       "      <td>potions</td>\n",
       "      <td>yes</td>\n",
       "      <td>2440</td>\n",
       "      <td>f</td>\n",
       "      <td>170</td>\n",
       "      <td>63</td>\n",
       "      <td>6</td>\n",
       "      <td>pumpkin</td>\n",
       "      <td>pesto pasta</td>\n",
       "      <td>7676</td>\n",
       "    </tr>\n",
       "    <tr>\n",
       "      <th>2</th>\n",
       "      <td>2020-01-02</td>\n",
       "      <td>vampire</td>\n",
       "      <td>8</td>\n",
       "      <td>castle</td>\n",
       "      <td>assault</td>\n",
       "      <td>brute force</td>\n",
       "      <td>night</td>\n",
       "      <td>cloak</td>\n",
       "      <td>no</td>\n",
       "      <td>242</td>\n",
       "      <td>m</td>\n",
       "      <td>183</td>\n",
       "      <td>42</td>\n",
       "      <td>6</td>\n",
       "      <td>garlic</td>\n",
       "      <td>brain</td>\n",
       "      <td>3465</td>\n",
       "    </tr>\n",
       "  </tbody>\n",
       "</table>\n",
       "</div>"
      ],
      "text/plain": [
       "         date monster_involved  days_of_investigation   region crime_type  \\\n",
       "0  2023-05-23           zombie                     92    swamp    assault   \n",
       "1  2023-06-02            ghost                     39  village  vandalism   \n",
       "2  2020-01-02          vampire                      8   castle    assault   \n",
       "\n",
       "  crime_weapon time_of_day evidence_found criminal_record   age gender  \\\n",
       "0          NaN       night        potions              no    97      f   \n",
       "1          axe       night        potions             yes  2440      f   \n",
       "2  brute force       night          cloak              no   242      m   \n",
       "\n",
       "   height_in_cm  speed_level  strength_level   allergy favorite_food    id  \n",
       "0           162           14               1  sunlight        humans  2211  \n",
       "1           170           63               6   pumpkin   pesto pasta  7676  \n",
       "2           183           42               6    garlic         brain  3465  "
      ]
     },
     "execution_count": 26,
     "metadata": {},
     "output_type": "execute_result"
    }
   ],
   "source": [
    "# some data preprocessing so that the column names and feature names fit between the training and test data\n",
    "\n",
    "# Load the test data\n",
    "test_data = pd.read_csv('data/test.csv')\n",
    "# Change all the column names to lowercase\n",
    "test_data.columns = test_data .columns.str.lower()\n",
    "\n",
    "# rename all columns to lowercase and replace spaces with underscores\n",
    "test_data.columns = test_data.columns.str.lower().str.replace(' ', '_')\n",
    "\n",
    "# Change all the string values to lowercase using DataFrame.apply and DataFrame.applymap alternatives\n",
    "test_data  = test_data.apply(lambda col: col.str.lower() if col.dtype == 'object' else col)\n",
    "test_data.head(3)"
   ]
  },
  {
   "cell_type": "code",
   "execution_count": 27,
   "metadata": {},
   "outputs": [
    {
     "name": "stdout",
     "output_type": "stream",
     "text": [
      "Accuracy: 0.98\n",
      "Precision: 0.9810230179028133\n",
      "Recall: 0.98\n",
      "F1 Score: 0.979940045617465\n",
      "\n",
      "Classification Report:\n",
      "               precision    recall  f1-score   support\n",
      "\n",
      "       ghost       1.00      1.00      1.00        16\n",
      "    skeleton       1.00      0.94      0.97        16\n",
      "     vampire       0.96      1.00      0.98        22\n",
      "    werewolf       0.94      1.00      0.97        16\n",
      "       witch       1.00      0.94      0.97        16\n",
      "      zombie       1.00      1.00      1.00        14\n",
      "\n",
      "    accuracy                           0.98       100\n",
      "   macro avg       0.98      0.98      0.98       100\n",
      "weighted avg       0.98      0.98      0.98       100\n",
      "\n"
     ]
    }
   ],
   "source": [
    "\n",
    "# Select only the relevant feature columns (ensure these match those used in the model pipeline)\n",
    "# X_test = test_data[['region', 'time_of_day', 'speed_level', 'date', 'crime_type', 'height_in_cm', 'gender',\n",
    "#                     'crime_weapon', 'allergy', 'strength_level', 'criminal_record', 'days_of_investigation',\n",
    "#                     'age', 'favorite_food', 'evidence_found']]\n",
    "# y_test = test_data['monster_involved']  # Target variable\n",
    "\n",
    "\n",
    "X_test = test_data.drop(columns=['monster_involved', 'id'])\n",
    "y_test = test_data['monster_involved']\n",
    "\n",
    "# Predict using the loaded model pipeline\n",
    "y_pred = loaded_model.predict(X_test)\n",
    "\n",
    "# Evaluate the model on the test set\n",
    "accuracy = accuracy_score(y_test, y_pred)\n",
    "precision = precision_score(y_test, y_pred, average='weighted')\n",
    "recall = recall_score(y_test, y_pred, average='weighted')\n",
    "f1 = f1_score(y_test, y_pred, average='weighted')\n",
    "report = classification_report(y_test, y_pred)\n",
    "\n",
    "# Print evaluation metrics\n",
    "print(f\"Accuracy: {accuracy}\")\n",
    "print(f\"Precision: {precision}\")\n",
    "print(f\"Recall: {recall}\")\n",
    "print(f\"F1 Score: {f1}\")\n",
    "print(\"\\nClassification Report:\\n\", report)\n"
   ]
  },
  {
   "cell_type": "markdown",
   "metadata": {},
   "source": [
    "Performance of 98% F1-score on unseen data suggests that our classification model is able to generalize well for unseen data and should give us good predictions of the monster involved in crimes."
   ]
  }
 ],
 "metadata": {
  "kernelspec": {
   "display_name": ".venv",
   "language": "python",
   "name": "python3"
  },
  "language_info": {
   "codemirror_mode": {
    "name": "ipython",
    "version": 3
   },
   "file_extension": ".py",
   "mimetype": "text/x-python",
   "name": "python",
   "nbconvert_exporter": "python",
   "pygments_lexer": "ipython3",
   "version": "3.12.4"
  }
 },
 "nbformat": 4,
 "nbformat_minor": 2
}
